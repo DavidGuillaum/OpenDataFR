{
 "cells": [
  {
   "cell_type": "code",
   "execution_count": 1,
   "id": "ba67935c",
   "metadata": {},
   "outputs": [],
   "source": [
    "import requests\n",
    "import pandas as pd\n",
    "from pandas import json_normalize"
   ]
  },
  {
   "cell_type": "markdown",
   "id": "bfa30410",
   "metadata": {},
   "source": [
    "# Retrieve data with API"
   ]
  },
  {
   "cell_type": "code",
   "execution_count": 2,
   "id": "2ab02cc0",
   "metadata": {
    "scrolled": true
   },
   "outputs": [
    {
     "name": "stdout",
     "output_type": "stream",
     "text": [
      "200\n"
     ]
    }
   ],
   "source": [
    "#SELECT annee, distric\n",
    "response_API = requests.get('https://opendata.fr.ch/api/explore/v2.1/catalog/datasets/01_02_age_5_sex_natio_etatcivil/records?select=annee%2C%20district%2C%20commune%2C%20genre%2C%20nationalite_categorie_fr%2C%20classe_etat_civil_fr&where=annee%20%3E%202021&limit=100')\n",
    "print(response_API.status_code)"
   ]
  },
  {
   "cell_type": "code",
   "execution_count": 3,
   "id": "dcd787c0",
   "metadata": {},
   "outputs": [],
   "source": [
    "df_json = response_API.json()"
   ]
  },
  {
   "cell_type": "code",
   "execution_count": 4,
   "id": "545155af",
   "metadata": {},
   "outputs": [],
   "source": [
    "df = pd.json_normalize(df_json[\"results\"])"
   ]
  },
  {
   "cell_type": "markdown",
   "id": "12374f78",
   "metadata": {},
   "source": [
    "# Cleaning"
   ]
  },
  {
   "cell_type": "code",
   "execution_count": 5,
   "id": "53b5e6a0",
   "metadata": {},
   "outputs": [],
   "source": [
    "df.dropna(inplace=True)"
   ]
  },
  {
   "cell_type": "code",
   "execution_count": 6,
   "id": "e69dfe36",
   "metadata": {},
   "outputs": [],
   "source": [
    "df.drop_duplicates(inplace=True)"
   ]
  },
  {
   "cell_type": "code",
   "execution_count": 7,
   "id": "6c37c2c2",
   "metadata": {},
   "outputs": [],
   "source": [
    "df[\"annee\"] = df[\"annee\"].astype(int)\n",
    "for col in df.columns[1:]:\n",
    "    df[col] = str(df[col])"
   ]
  }
 ],
 "metadata": {
  "kernelspec": {
   "display_name": "Python 3 (ipykernel)",
   "language": "python",
   "name": "python3"
  },
  "language_info": {
   "codemirror_mode": {
    "name": "ipython",
    "version": 3
   },
   "file_extension": ".py",
   "mimetype": "text/x-python",
   "name": "python",
   "nbconvert_exporter": "python",
   "pygments_lexer": "ipython3",
   "version": "3.10.13"
  }
 },
 "nbformat": 4,
 "nbformat_minor": 5
}
